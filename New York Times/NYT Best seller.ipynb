{
 "cells": [
  {
   "cell_type": "markdown",
   "id": "f6811975",
   "metadata": {},
   "source": [
    " **<center><u>Web Scrapping in Python</u></center>**"
   ]
  },
  {
   "cell_type": "markdown",
   "id": "89b89068",
   "metadata": {},
   "source": [
    "The Web Scrapping will be done from [New York Best Sellers](https://www.nytimes.com/books/best-sellers) website"
   ]
  },
  {
   "cell_type": "code",
   "execution_count": 7,
   "id": "a898cc30",
   "metadata": {},
   "outputs": [],
   "source": [
    "from bs4 import BeautifulSoup"
   ]
  },
  {
   "cell_type": "code",
   "execution_count": 8,
   "id": "0531e78a",
   "metadata": {},
   "outputs": [],
   "source": [
    "with open('Manual.html', 'r', encoding='utf-8') as file:\n",
    "    page = file.read()"
   ]
  },
  {
   "cell_type": "code",
   "execution_count": 9,
   "id": "08532a3a",
   "metadata": {},
   "outputs": [],
   "source": [
    "soup = BeautifulSoup(page, 'lxml')"
   ]
  },
  {
   "cell_type": "code",
   "execution_count": 10,
   "id": "2bf6d863",
   "metadata": {},
   "outputs": [],
   "source": [
    "articles = soup.select('article') #<-- select individual tags with css selector.  Selector each article tags in the html"
   ]
  },
  {
   "cell_type": "code",
   "execution_count": 11,
   "id": "d5c20f2a",
   "metadata": {},
   "outputs": [
    {
     "data": {
      "text/plain": [
       "<article class=\"css-1u6k25n\" itemprop=\"itemListElement\" itemscope=\"\" itemtype=\"https://schema.org/Book\"><div class=\"css-xe4cfy\"><a><p class=\"css-1o26r9v\">3<!-- --> weeks on the list</p><h3 class=\"css-5pe77f\" itemprop=\"name\">Charles</h3><p class=\"css-hjukut\" itemprop=\"author\">by Peter Attia with Bill Gifford</p><p class=\"css-heg334\" itemprop=\"publisher\">Harmony</p><p class=\"css-14lubdp\" itemprop=\"description\">A look at recent scientific research on aging and longevity.</p></a><div class=\"css-1cpfh5o\"><div class=\"css-fugswm\"><div class=\"css-79elbk\"><button aria-expanded=\"false\" aria-haspopup=\"true\" class=\"css-80zux2\" type=\"button\">Buy<span aria-hidden=\"true\"> ▾</span></button><ul aria-label=\"Links to Book Retailers\" class=\"css-8dud8s\" hidden=\"\"><li><a class=\"css-114t425\" href=\"https://www.amazon.com/dp/0593236599?tag=NYTBSREV-20\" rel=\"noopener noreferrer\" target=\"_blank\">Amazon</a></li><li><a class=\"css-114t425\" href=\"https://goto.applebooks.apple/9780593236598?at=10lIEQ\" rel=\"noopener noreferrer\" target=\"_blank\">Apple Books</a></li><li><a class=\"css-114t425\" href=\"https://www.anrdoezrs.net/click-7990613-11819508?url=https%3A%2F%2Fwww.barnesandnoble.com%2Fw%2F%3Fean%3D9780593236598\" rel=\"noopener noreferrer\" target=\"_blank\">Barnes and Noble</a></li><li><a class=\"css-114t425\" href=\"https://du-gae-books-dot-nyt-du-prd.appspot.com/redirect?url1=https%3A%2F%2Fwww.anrdoezrs.net%2Fclick-7990613-35140%3Furl%3Dhttps%253A%252F%252Fwww.booksamillion.com%252Fp%252FOUTLIVE%252FPeter%252BAttia%252Bwith%252BBill%252BGifford%252F9780593236598&amp;url2=https%3A%2F%2Fwww.anrdoezrs.net%2Fclick-7990613-35140%3Furl%3Dhttps%253A%252F%252Fwww.booksamillion.com%252Fsearch%253Fquery%253DOUTLIVE%252BPeter%252BAttia%252Bwith%252BBill%252BGifford\" rel=\"noopener noreferrer\" target=\"_blank\">Books-A-Million</a></li><li><a class=\"css-114t425\" href=\"https://du-gae-books-dot-nyt-du-prd.appspot.com/redirect?url1=https%3A%2F%2Fbookshop.org%2Fa%2F3546%2F9780593236598&amp;url2=https%3A%2F%2Fbookshop.org%2Fbooks%3Faffiliate%3D3546%26keywords%3DOUTLIVE\" rel=\"noopener noreferrer\" target=\"_blank\">Bookshop</a></li><li><a class=\"css-114t425\" href=\"https://du-gae-books-dot-nyt-du-prd.appspot.com/redirect?url1=https%3A%2F%2Fwww.indiebound.org%2Fbook%2F9780593236598%3Faff%3DNYT&amp;url2=https%3A%2F%2Fwww.indiebound.org%2Fsearch%2Fbook%3Fkeys%3DOUTLIVE%2BPeter%2BAttia%2Bwith%2BBill%2BGifford%26aff%3DNYT\" rel=\"noopener noreferrer\" target=\"_blank\">IndieBound</a></li></ul></div></div></div></div><footer class=\"css-1d36f7m\"><div class=\"css-szqx50\"><a><img alt=\"OUTLIVE by Peter Attia with Bill Gifford\" itemprop=\"image\" role=\"presentation\" src=\"https://storage.googleapis.com/du-prd/books/images/9780593236598.jpg\"/></a></div></footer><meta content=\"0593236599\" itemprop=\"isbn\"/><meta content=\"9780593236598\" itemprop=\"isbn\"/><meta content=\"1\" itemprop=\"position\"/><meta content=\"https://www.nytimes.com/books/best-sellers/2023/04/30/hardcover-nonfiction#QmVzdFNlbGxlckJvb2s6MDU5MzIzNjU5OS05NzgwNTkzMjM2NTk4\" itemprop=\"url\"/></article>"
      ]
     },
     "execution_count": 11,
     "metadata": {},
     "output_type": "execute_result"
    }
   ],
   "source": [
    "articles[0] #<-- select first article tag from the available 15  article tags in the html"
   ]
  },
  {
   "cell_type": "code",
   "execution_count": 13,
   "id": "90815511",
   "metadata": {},
   "outputs": [
    {
     "data": {
      "text/plain": [
       "[<h3 class=\"css-5pe77f\" itemprop=\"name\">Charles</h3>,\n",
       " <h3 class=\"css-5pe77f\" itemprop=\"name\">I'M GLAD MY MOM DIED</h3>,\n",
       " <h3 class=\"css-5pe77f\" itemprop=\"name\">YOU COULD MAKE THIS PLACE BEAUTIFUL</h3>,\n",
       " <h3 class=\"css-5pe77f\" itemprop=\"name\">SPARE</h3>,\n",
       " <h3 class=\"css-5pe77f\" itemprop=\"name\">POVERTY, BY AMERICA</h3>,\n",
       " <h3 class=\"css-5pe77f\" itemprop=\"name\">I SWEAR</h3>,\n",
       " <h3 class=\"css-5pe77f\" itemprop=\"name\">IT. GOES. SO. FAST.</h3>,\n",
       " <h3 class=\"css-5pe77f\" itemprop=\"name\">GOT YOUR NUMBER</h3>,\n",
       " <h3 class=\"css-5pe77f\" itemprop=\"name\">GREENLIGHTS</h3>,\n",
       " <h3 class=\"css-5pe77f\" itemprop=\"name\">THE LIGHT WE CARRY</h3>,\n",
       " <h3 class=\"css-5pe77f\" itemprop=\"name\">ON THE ORIGIN OF TIME</h3>,\n",
       " <h3 class=\"css-5pe77f\" itemprop=\"name\">A FEVER IN THE HEARTLAND</h3>,\n",
       " <h3 class=\"css-5pe77f\" itemprop=\"name\">FOLLOW ME TO HELL</h3>,\n",
       " <h3 class=\"css-5pe77f\" itemprop=\"name\">LEBRON</h3>,\n",
       " <h3 class=\"css-5pe77f\" itemprop=\"name\">WHAT HAPPENED TO YOU?</h3>]"
      ]
     },
     "execution_count": 13,
     "metadata": {},
     "output_type": "execute_result"
    }
   ],
   "source": [
    "soup.select('article h3') #<-- select each h3 tags inside Article tag (this h3 tag contains the book titles in the html)"
   ]
  },
  {
   "cell_type": "code",
   "execution_count": 12,
   "id": "59fc9ebf",
   "metadata": {},
   "outputs": [
    {
     "data": {
      "text/plain": [
       "[<h3 class=\"css-5pe77f\" itemprop=\"name\">Charles</h3>,\n",
       " <h3 class=\"css-5pe77f\" itemprop=\"name\">I'M GLAD MY MOM DIED</h3>,\n",
       " <h3 class=\"css-5pe77f\" itemprop=\"name\">YOU COULD MAKE THIS PLACE BEAUTIFUL</h3>,\n",
       " <h3 class=\"css-5pe77f\" itemprop=\"name\">SPARE</h3>,\n",
       " <h3 class=\"css-5pe77f\" itemprop=\"name\">POVERTY, BY AMERICA</h3>,\n",
       " <h3 class=\"css-5pe77f\" itemprop=\"name\">I SWEAR</h3>,\n",
       " <h3 class=\"css-5pe77f\" itemprop=\"name\">IT. GOES. SO. FAST.</h3>,\n",
       " <h3 class=\"css-5pe77f\" itemprop=\"name\">GOT YOUR NUMBER</h3>,\n",
       " <h3 class=\"css-5pe77f\" itemprop=\"name\">GREENLIGHTS</h3>,\n",
       " <h3 class=\"css-5pe77f\" itemprop=\"name\">THE LIGHT WE CARRY</h3>,\n",
       " <h3 class=\"css-5pe77f\" itemprop=\"name\">ON THE ORIGIN OF TIME</h3>,\n",
       " <h3 class=\"css-5pe77f\" itemprop=\"name\">A FEVER IN THE HEARTLAND</h3>,\n",
       " <h3 class=\"css-5pe77f\" itemprop=\"name\">FOLLOW ME TO HELL</h3>,\n",
       " <h3 class=\"css-5pe77f\" itemprop=\"name\">LEBRON</h3>,\n",
       " <h3 class=\"css-5pe77f\" itemprop=\"name\">WHAT HAPPENED TO YOU?</h3>]"
      ]
     },
     "execution_count": 12,
     "metadata": {},
     "output_type": "execute_result"
    }
   ],
   "source": [
    "soup.select('article h3[itemprop=\"name\"]')  #<--- select only the h3 tag in article tag with the attribute itemprop = 'name'"
   ]
  },
  {
   "cell_type": "code",
   "execution_count": 28,
   "id": "e90e7412",
   "metadata": {},
   "outputs": [
    {
     "data": {
      "text/plain": [
       "bs4.element.ResultSet"
      ]
     },
     "execution_count": 28,
     "metadata": {},
     "output_type": "execute_result"
    }
   ],
   "source": [
    "result = soup.select('article h3[itemprop=\"name\"]')\n",
    "type(result)"
   ]
  },
  {
   "cell_type": "code",
   "execution_count": 36,
   "id": "7373d7bd",
   "metadata": {},
   "outputs": [
    {
     "data": {
      "text/plain": [
       "<p class=\"css-hjukut\" itemprop=\"author\">by Peter Attia with Bill Gifford</p>"
      ]
     },
     "execution_count": 36,
     "metadata": {},
     "output_type": "execute_result"
    }
   ],
   "source": [
    "result[0] #<-- This returns the html and the books title; but we're only interested in the book title"
   ]
  },
  {
   "cell_type": "code",
   "execution_count": 37,
   "id": "025a4c47",
   "metadata": {},
   "outputs": [
    {
     "data": {
      "text/plain": [
       "'by Peter Attia with Bill Gifford'"
      ]
     },
     "execution_count": 37,
     "metadata": {},
     "output_type": "execute_result"
    }
   ],
   "source": [
    "result[0].text  #<-- get the book title of the first book in the list"
   ]
  },
  {
   "cell_type": "code",
   "execution_count": 20,
   "id": "cb2314f3",
   "metadata": {},
   "outputs": [],
   "source": [
    "titles = [r.text for r in result]  #<-- the book titles in the list"
   ]
  },
  {
   "cell_type": "code",
   "execution_count": 21,
   "id": "93b7df82",
   "metadata": {},
   "outputs": [
    {
     "data": {
      "text/plain": [
       "['Charles',\n",
       " \"I'M GLAD MY MOM DIED\",\n",
       " 'YOU COULD MAKE THIS PLACE BEAUTIFUL',\n",
       " 'SPARE',\n",
       " 'POVERTY, BY AMERICA',\n",
       " 'I SWEAR',\n",
       " 'IT. GOES. SO. FAST.',\n",
       " 'GOT YOUR NUMBER',\n",
       " 'GREENLIGHTS',\n",
       " 'THE LIGHT WE CARRY',\n",
       " 'ON THE ORIGIN OF TIME',\n",
       " 'A FEVER IN THE HEARTLAND',\n",
       " 'FOLLOW ME TO HELL',\n",
       " 'LEBRON',\n",
       " 'WHAT HAPPENED TO YOU?']"
      ]
     },
     "execution_count": 21,
     "metadata": {},
     "output_type": "execute_result"
    }
   ],
   "source": [
    "titles"
   ]
  },
  {
   "cell_type": "code",
   "execution_count": 67,
   "id": "18dce88c",
   "metadata": {},
   "outputs": [],
   "source": [
    "result = soup.select('article p[itemprop=\"author\"]')"
   ]
  },
  {
   "cell_type": "code",
   "execution_count": 68,
   "id": "3457b461",
   "metadata": {},
   "outputs": [],
   "source": [
    "author = [r.text.replace('by', \" \") for r in result]  # or use the .strip method"
   ]
  },
  {
   "cell_type": "code",
   "execution_count": 69,
   "id": "ba9677ac",
   "metadata": {},
   "outputs": [
    {
     "data": {
      "text/plain": [
       "[]"
      ]
     },
     "execution_count": 69,
     "metadata": {},
     "output_type": "execute_result"
    }
   ],
   "source": [
    "titles"
   ]
  },
  {
   "cell_type": "code",
   "execution_count": 61,
   "id": "93dfb6f6",
   "metadata": {},
   "outputs": [
    {
     "data": {
      "text/plain": [
       "[<img alt=\"OUTLIVE by Peter Attia with Bill Gifford\" itemprop=\"image\" role=\"presentation\" src=\"https://storage.googleapis.com/du-prd/books/images/9780593236598.jpg\"/>,\n",
       " <img alt=\"I'M GLAD MY MOM DIED by Jennette McCurdy\" itemprop=\"image\" role=\"presentation\" src=\"https://storage.googleapis.com/du-prd/books/images/9781982185824.jpg\"/>,\n",
       " <img alt=\"YOU COULD MAKE THIS PLACE BEAUTIFUL by Maggie Smith\" itemprop=\"image\" role=\"presentation\" src=\"https://storage.googleapis.com/du-prd/books/images/9781982185855.jpg\"/>,\n",
       " <img alt=\"SPARE by Prince Harry\" itemprop=\"image\" role=\"presentation\" src=\"https://storage.googleapis.com/du-prd/books/images/9780593593806.jpg\"/>,\n",
       " <img alt=\"POVERTY, BY AMERICA by Matthew Desmond\" itemprop=\"image\" role=\"presentation\" src=\"https://storage.googleapis.com/du-prd/books/images/9780593239919.jpg\"/>,\n",
       " <img alt=\"I SWEAR by Katie Porter\" itemprop=\"image\" role=\"presentation\" src=\"https://storage.googleapis.com/du-prd/books/images/9780593443989.jpg\"/>,\n",
       " <img alt=\"IT. GOES. SO. FAST. by Mary Louise Kelly\" itemprop=\"image\" role=\"presentation\" src=\"https://storage.googleapis.com/du-prd/books/images/9781250859853.jpg\"/>,\n",
       " <img alt=\"GOT YOUR NUMBER by Mike Greenberg with Paul Hembekides\" itemprop=\"image\" role=\"presentation\" src=\"https://storage.googleapis.com/du-prd/books/images/9781368073561.jpg\"/>,\n",
       " <img alt=\"GREENLIGHTS by Matthew McConaughey\" itemprop=\"image\" role=\"presentation\" src=\"https://storage.googleapis.com/du-prd/books/images/9780593139134.jpg\"/>,\n",
       " <img alt=\"THE LIGHT WE CARRY by Michelle Obama\" itemprop=\"image\" role=\"presentation\" src=\"https://storage.googleapis.com/du-prd/books/images/9780593237465.jpg\"/>,\n",
       " <img alt=\"ON THE ORIGIN OF TIME by Thomas Hertog\" itemprop=\"image\" role=\"presentation\" src=\"https://storage.googleapis.com/du-prd/books/images/9780593128442.jpg\"/>,\n",
       " <img alt=\"A FEVER IN THE HEARTLAND by Timothy Egan\" itemprop=\"image\" role=\"presentation\" src=\"https://storage.googleapis.com/du-prd/books/images/9780735225268.jpg\"/>,\n",
       " <img alt=\"FOLLOW ME TO HELL by Tom Clavin\" itemprop=\"image\" role=\"presentation\" src=\"https://storage.googleapis.com/du-prd/books/images/9781250214553.jpg\"/>,\n",
       " <img alt=\"LEBRON by Jeff Benedict\" itemprop=\"image\" role=\"presentation\" src=\"https://storage.googleapis.com/du-prd/books/images/9781982110895.jpg\"/>,\n",
       " <img alt=\"WHAT HAPPENED TO YOU? by Bruce D. Perry and Oprah Winfrey\" itemprop=\"image\" role=\"presentation\" src=\"https://storage.googleapis.com/du-prd/books/images/9781250223180.jpg\"/>]"
      ]
     },
     "execution_count": 61,
     "metadata": {},
     "output_type": "execute_result"
    }
   ],
   "source": [
    "soup.select('article img[itemprop=\"image\"]')  #<-- Selecting the book covers"
   ]
  },
  {
   "cell_type": "code",
   "execution_count": 63,
   "id": "d4bd607f",
   "metadata": {},
   "outputs": [
    {
     "data": {
      "text/plain": [
       "<img alt=\"OUTLIVE by Peter Attia with Bill Gifford\" itemprop=\"image\" role=\"presentation\" src=\"https://storage.googleapis.com/du-prd/books/images/9780593236598.jpg\"/>"
      ]
     },
     "execution_count": 63,
     "metadata": {},
     "output_type": "execute_result"
    }
   ],
   "source": [
    "result = soup.select('article img[itemprop=\"image\"]')\n",
    "result[0]"
   ]
  },
  {
   "cell_type": "code",
   "execution_count": 64,
   "id": "338c7b86",
   "metadata": {},
   "outputs": [
    {
     "data": {
      "text/plain": [
       "['https://storage.googleapis.com/du-prd/books/images/9780593236598.jpg',\n",
       " 'https://storage.googleapis.com/du-prd/books/images/9781982185824.jpg',\n",
       " 'https://storage.googleapis.com/du-prd/books/images/9781982185855.jpg',\n",
       " 'https://storage.googleapis.com/du-prd/books/images/9780593593806.jpg',\n",
       " 'https://storage.googleapis.com/du-prd/books/images/9780593239919.jpg',\n",
       " 'https://storage.googleapis.com/du-prd/books/images/9780593443989.jpg',\n",
       " 'https://storage.googleapis.com/du-prd/books/images/9781250859853.jpg',\n",
       " 'https://storage.googleapis.com/du-prd/books/images/9781368073561.jpg',\n",
       " 'https://storage.googleapis.com/du-prd/books/images/9780593139134.jpg',\n",
       " 'https://storage.googleapis.com/du-prd/books/images/9780593237465.jpg',\n",
       " 'https://storage.googleapis.com/du-prd/books/images/9780593128442.jpg',\n",
       " 'https://storage.googleapis.com/du-prd/books/images/9780735225268.jpg',\n",
       " 'https://storage.googleapis.com/du-prd/books/images/9781250214553.jpg',\n",
       " 'https://storage.googleapis.com/du-prd/books/images/9781982110895.jpg',\n",
       " 'https://storage.googleapis.com/du-prd/books/images/9781250223180.jpg']"
      ]
     },
     "execution_count": 64,
     "metadata": {},
     "output_type": "execute_result"
    }
   ],
   "source": [
    "images = [r['src'] for r in result]\n",
    "#images = [r.get('src') for r in result]\n",
    "images"
   ]
  },
  {
   "cell_type": "markdown",
   "id": "eb9ff818",
   "metadata": {},
   "source": [
    "Combining the 3 list Together`"
   ]
  },
  {
   "cell_type": "code",
   "execution_count": 66,
   "id": "a03a9fef",
   "metadata": {},
   "outputs": [
    {
     "ename": "NameError",
     "evalue": "name 'author' is not defined",
     "output_type": "error",
     "traceback": [
      "\u001b[1;31m---------------------------------------------------------------------------\u001b[0m",
      "\u001b[1;31mNameError\u001b[0m                                 Traceback (most recent call last)",
      "\u001b[1;32m~\\AppData\\Local\\Temp/ipykernel_19856/3291404320.py\u001b[0m in \u001b[0;36m<module>\u001b[1;34m\u001b[0m\n\u001b[1;32m----> 1\u001b[1;33m \u001b[0mbook_info\u001b[0m \u001b[1;33m=\u001b[0m \u001b[0mlist\u001b[0m\u001b[1;33m(\u001b[0m\u001b[0mzip\u001b[0m\u001b[1;33m(\u001b[0m\u001b[0mtitles\u001b[0m\u001b[1;33m,\u001b[0m \u001b[0mauthor\u001b[0m\u001b[1;33m,\u001b[0m \u001b[0mimages\u001b[0m\u001b[1;33m)\u001b[0m\u001b[1;33m)\u001b[0m  \u001b[1;31m#<-- Combining the 3 list together (Book Titles, Authors, Images)\u001b[0m\u001b[1;33m\u001b[0m\u001b[1;33m\u001b[0m\u001b[0m\n\u001b[0m",
      "\u001b[1;31mNameError\u001b[0m: name 'author' is not defined"
     ]
    }
   ],
   "source": [
    "book_info = list(zip(titles, author, images))  #<-- Combining the 3 list together (Book Titles, Authors, Images)"
   ]
  },
  {
   "cell_type": "code",
   "execution_count": null,
   "id": "96e1b9fa",
   "metadata": {},
   "outputs": [],
   "source": []
  }
 ],
 "metadata": {
  "kernelspec": {
   "display_name": "Python 3 (ipykernel)",
   "language": "python",
   "name": "python3"
  },
  "language_info": {
   "codemirror_mode": {
    "name": "ipython",
    "version": 3
   },
   "file_extension": ".py",
   "mimetype": "text/x-python",
   "name": "python",
   "nbconvert_exporter": "python",
   "pygments_lexer": "ipython3",
   "version": "3.9.7"
  }
 },
 "nbformat": 4,
 "nbformat_minor": 5
}
